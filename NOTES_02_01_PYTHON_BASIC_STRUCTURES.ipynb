{
  "cells": [
    {
      "cell_type": "markdown",
      "metadata": {
        "id": "view-in-github",
        "colab_type": "text"
      },
      "source": [
        "<a href=\"https://colab.research.google.com/github/GabyLE/Curso-IA-para-las-ciencias-e-ingenieria/blob/main/NOTES_02_01_PYTHON_BASIC_STRUCTURES.ipynb\" target=\"_parent\"><img src=\"https://colab.research.google.com/assets/colab-badge.svg\" alt=\"Open In Colab\"/></a>"
      ]
    },
    {
      "cell_type": "markdown",
      "metadata": {
        "id": "5yrdrXDVcV55"
      },
      "source": [
        "# 02.01 - BASIC STRUCTURES"
      ]
    },
    {
      "cell_type": "code",
      "execution_count": null,
      "metadata": {
        "id": "t2sw0oHzcV59"
      },
      "outputs": [],
      "source": [
        "!wget --no-cache -O init.py -q https://raw.githubusercontent.com/rramosp/ai4eng.v1/main/content/init.py\n",
        "import init; init.init(force_download=False); init.get_weblink()"
      ]
    },
    {
      "cell_type": "markdown",
      "metadata": {
        "id": "e4dj7JkdcV5-"
      },
      "source": [
        "## Introduction to Python"
      ]
    },
    {
      "cell_type": "markdown",
      "metadata": {
        "id": "DW5RnbL2cV5_"
      },
      "source": [
        "Python is **interpreted** and **dynamically typed**. Observe in the following lines:\n",
        "\n",
        "- variables `a` and `b` have specific data types even if they are not explicitly defined.\n",
        "- python guesses their types by how they are being used (`\\\\` is integer division, while `\\` is floating point division)\n",
        "- python keeps executing stuff while no error is found $\\rightarrow$ python is interpreted"
      ]
    },
    {
      "cell_type": "code",
      "execution_count": null,
      "metadata": {
        "id": "dgUhLOAAcV5_",
        "outputId": "5d5b8909-66f1-4ca4-eeab-670e08079b12"
      },
      "outputs": [
        {
          "name": "stdout",
          "output_type": "stream",
          "text": [
            "4 <class 'int'>\n"
          ]
        }
      ],
      "source": [
        "a = 4\n",
        "print (a, type(a))"
      ]
    },
    {
      "cell_type": "code",
      "execution_count": null,
      "metadata": {
        "id": "DGp4KdrzcV6A",
        "outputId": "4f0ddb0a-be66-4901-ff40-7391106c6f69"
      },
      "outputs": [
        {
          "name": "stdout",
          "output_type": "stream",
          "text": [
            "4 <class 'float'>\n"
          ]
        }
      ],
      "source": [
        "b = 9.\n",
        "print (a, type(b))"
      ]
    },
    {
      "cell_type": "code",
      "execution_count": null,
      "metadata": {
        "id": "0cwbsUArcV6B",
        "outputId": "9337e319-130f-4d56-9296-484c8d18e6a6"
      },
      "outputs": [
        {
          "name": "stdout",
          "output_type": "stream",
          "text": [
            "2.25 <class 'float'>\n"
          ]
        }
      ],
      "source": [
        "c = 9/4\n",
        "print (c, type(c))"
      ]
    },
    {
      "cell_type": "code",
      "execution_count": null,
      "metadata": {
        "id": "VDbnTguQcV6B",
        "outputId": "f77c0b3c-5bf4-46f6-dfed-840b794e6bfb"
      },
      "outputs": [
        {
          "name": "stdout",
          "output_type": "stream",
          "text": [
            "2 <class 'int'>\n"
          ]
        },
        {
          "ename": "NameError",
          "evalue": "name 'x' is not defined",
          "output_type": "error",
          "traceback": [
            "\u001b[0;31m---------------------------------------------------------------------------\u001b[0m",
            "\u001b[0;31mNameError\u001b[0m                                 Traceback (most recent call last)",
            "\u001b[0;32m<ipython-input-4-35e15d72124c>\u001b[0m in \u001b[0;36m<module>\u001b[0;34m\u001b[0m\n\u001b[1;32m      1\u001b[0m \u001b[0md\u001b[0m \u001b[0;34m=\u001b[0m \u001b[0;36m9\u001b[0m\u001b[0;34m//\u001b[0m\u001b[0;36m4\u001b[0m\u001b[0;34m\u001b[0m\u001b[0;34m\u001b[0m\u001b[0m\n\u001b[1;32m      2\u001b[0m \u001b[0mprint\u001b[0m \u001b[0;34m(\u001b[0m\u001b[0md\u001b[0m\u001b[0;34m,\u001b[0m \u001b[0mtype\u001b[0m\u001b[0;34m(\u001b[0m\u001b[0md\u001b[0m\u001b[0;34m)\u001b[0m\u001b[0;34m)\u001b[0m\u001b[0;34m\u001b[0m\u001b[0;34m\u001b[0m\u001b[0m\n\u001b[0;32m----> 3\u001b[0;31m \u001b[0mprint\u001b[0m \u001b[0;34m(\u001b[0m\u001b[0mx\u001b[0m\u001b[0;34m)\u001b[0m\u001b[0;34m\u001b[0m\u001b[0;34m\u001b[0m\u001b[0m\n\u001b[0m",
            "\u001b[0;31mNameError\u001b[0m: name 'x' is not defined"
          ]
        }
      ],
      "source": [
        "d = 9//4\n",
        "print (d, type(d))\n",
        "print (x)"
      ]
    },
    {
      "cell_type": "markdown",
      "metadata": {
        "id": "lT2-rQUPcV6C"
      },
      "source": [
        "but types can be enforced, or used for data conversion"
      ]
    },
    {
      "cell_type": "code",
      "execution_count": null,
      "metadata": {
        "id": "Jm4UgcphcV6C",
        "outputId": "b76babc7-c090-490f-8e02-826a1f3ab908"
      },
      "outputs": [
        {
          "name": "stdout",
          "output_type": "stream",
          "text": [
            "1 :: 1.0\n"
          ]
        }
      ],
      "source": [
        "a = 1\n",
        "b = float(a)\n",
        "print (a, \"::\", b)"
      ]
    },
    {
      "cell_type": "code",
      "execution_count": null,
      "metadata": {
        "id": "1JVeVPNmcV6C",
        "outputId": "2d066cf8-38fe-4c2d-c324-a6f4535d802a"
      },
      "outputs": [
        {
          "name": "stdout",
          "output_type": "stream",
          "text": [
            "el valor de 'a' es 1\n"
          ]
        }
      ],
      "source": [
        "s = \"el valor de 'a' es \"+str(a)\n",
        "print (s)"
      ]
    },
    {
      "cell_type": "markdown",
      "metadata": {
        "id": "HfseFfbscV6D"
      },
      "source": [
        "## Notebook cell outputs"
      ]
    },
    {
      "cell_type": "code",
      "execution_count": null,
      "metadata": {
        "id": "9Ju6g5YAcV6D",
        "outputId": "7ed26b97-dc33-4be9-b390-391a5f6f2c27"
      },
      "outputs": [
        {
          "data": {
            "text/plain": [
              "(1, 1.0)"
            ]
          },
          "execution_count": 7,
          "metadata": {},
          "output_type": "execute_result"
        }
      ],
      "source": [
        "a = 1\n",
        "b = float(a)\n",
        "a,b"
      ]
    },
    {
      "cell_type": "code",
      "execution_count": null,
      "metadata": {
        "id": "RFScBdxacV6D",
        "outputId": "7d368b07-7190-462e-82c0-9cdf95e022bf"
      },
      "outputs": [
        {
          "data": {
            "text/plain": [
              "1.0"
            ]
          },
          "execution_count": 8,
          "metadata": {},
          "output_type": "execute_result"
        }
      ],
      "source": [
        "a = 1\n",
        "a\n",
        "b = float(a)\n",
        "b"
      ]
    },
    {
      "cell_type": "code",
      "execution_count": null,
      "metadata": {
        "id": "8IV_VqYBcV6D",
        "outputId": "41b4db1c-003d-4d97-c704-9305c87cac69"
      },
      "outputs": [
        {
          "name": "stdout",
          "output_type": "stream",
          "text": [
            "1\n"
          ]
        },
        {
          "data": {
            "text/plain": [
              "1.0"
            ]
          },
          "execution_count": 9,
          "metadata": {},
          "output_type": "execute_result"
        }
      ],
      "source": [
        "a = 1\n",
        "print (a)\n",
        "b = float(a)\n",
        "b"
      ]
    },
    {
      "cell_type": "code",
      "execution_count": null,
      "metadata": {
        "id": "7SwqVS4JcV6D"
      },
      "outputs": [],
      "source": []
    },
    {
      "cell_type": "markdown",
      "metadata": {
        "id": "7InslfsGcV6D"
      },
      "source": [
        "## Lists\n",
        "\n",
        "ordered sequences of objects of **any** kind with cool indexing.\n",
        "\n",
        "indexing **starts at zero**."
      ]
    },
    {
      "cell_type": "code",
      "execution_count": null,
      "metadata": {
        "id": "svXjK6JccV6E"
      },
      "outputs": [],
      "source": [
        "b = [1,10, 20.5, \"hola\", 10., 12, 13, 14., 15,16, 17., 18, 19, 20.]"
      ]
    },
    {
      "cell_type": "code",
      "execution_count": null,
      "metadata": {
        "id": "lZofSzuUcV6E",
        "outputId": "efc93c39-d5fd-48b0-9d5f-1ba6ccccc460"
      },
      "outputs": [
        {
          "name": "stdout",
          "output_type": "stream",
          "text": [
            "14\n"
          ]
        }
      ],
      "source": [
        "print (len(b))"
      ]
    },
    {
      "cell_type": "code",
      "execution_count": null,
      "metadata": {
        "id": "-OVDGVIqcV6E",
        "outputId": "dae7868b-a845-4545-ab2b-cd7254279811"
      },
      "outputs": [
        {
          "name": "stdout",
          "output_type": "stream",
          "text": [
            "[1, 10, 20.5]\n"
          ]
        }
      ],
      "source": [
        "print (b[:3])"
      ]
    },
    {
      "cell_type": "code",
      "execution_count": null,
      "metadata": {
        "id": "EwyPLoZ-cV6E",
        "outputId": "fea3af10-ecf2-4c35-86fe-cdf2a46b6cfb"
      },
      "outputs": [
        {
          "name": "stdout",
          "output_type": "stream",
          "text": [
            "['hola', 10.0, 12, 13, 14.0, 15, 16, 17.0, 18, 19, 20.0]\n"
          ]
        }
      ],
      "source": [
        "print (b[3:])"
      ]
    },
    {
      "cell_type": "code",
      "execution_count": null,
      "metadata": {
        "id": "LTArN_3NcV6E",
        "outputId": "6edae565-1931-4efc-edd1-3a1f11004a75"
      },
      "outputs": [
        {
          "name": "stdout",
          "output_type": "stream",
          "text": [
            "[18, 19, 20.0]\n"
          ]
        }
      ],
      "source": [
        "print (b[-3:])"
      ]
    },
    {
      "cell_type": "code",
      "execution_count": null,
      "metadata": {
        "id": "f1pOr0vicV6E",
        "outputId": "eb2a7425-9e23-444a-8f3c-c5057c877e35"
      },
      "outputs": [
        {
          "name": "stdout",
          "output_type": "stream",
          "text": [
            "10.0\n"
          ]
        }
      ],
      "source": [
        "print (b[4])"
      ]
    },
    {
      "cell_type": "code",
      "execution_count": null,
      "metadata": {
        "id": "DqPo69kgcV6E",
        "outputId": "ecbee946-9689-45f7-afa5-7627d428086e"
      },
      "outputs": [
        {
          "name": "stdout",
          "output_type": "stream",
          "text": [
            "[12, 13, 14.0, 15, 16]\n"
          ]
        }
      ],
      "source": [
        "print (b[5:10])"
      ]
    },
    {
      "cell_type": "code",
      "execution_count": null,
      "metadata": {
        "id": "c-kqOrJDcV6F",
        "outputId": "2a23be45-25c2-43ad-bf5b-b8a63ffbba4d"
      },
      "outputs": [
        {
          "name": "stdout",
          "output_type": "stream",
          "text": [
            "[16, 17.0, 18]\n"
          ]
        }
      ],
      "source": [
        "print (b[-5:-2])"
      ]
    },
    {
      "cell_type": "code",
      "execution_count": null,
      "metadata": {
        "id": "8FGOq8UpcV6F",
        "outputId": "c58ee01e-8305-4d36-9b45-23ce3dd57537"
      },
      "outputs": [
        {
          "name": "stdout",
          "output_type": "stream",
          "text": [
            "[1, 20.5, 10.0, 13, 15, 17.0, 19]\n"
          ]
        }
      ],
      "source": [
        "print (b[::2])"
      ]
    },
    {
      "cell_type": "code",
      "execution_count": null,
      "metadata": {
        "id": "1pOQ2CiscV6F",
        "outputId": "6aeba1c1-357f-4a25-9152-090c8a7ba422"
      },
      "outputs": [
        {
          "name": "stdout",
          "output_type": "stream",
          "text": [
            "[20.0, 19, 18, 17.0, 16, 15, 14.0, 13, 12, 10.0, 'hola', 20.5, 10, 1]\n"
          ]
        }
      ],
      "source": [
        "print (b[::-1])"
      ]
    },
    {
      "cell_type": "code",
      "execution_count": null,
      "metadata": {
        "id": "ATTC3L9ecV6F",
        "outputId": "5f5b5e7f-f735-4f12-ee39-d0ceed052c8c"
      },
      "outputs": [
        {
          "data": {
            "text/plain": [
              "[1, 10, 20.5, 'hola', 10.0, 12, 13, 14.0, 15, 16, 17.0, 18, 19, 20.0, 'elfin']"
            ]
          },
          "execution_count": 90,
          "metadata": {},
          "output_type": "execute_result"
        }
      ],
      "source": [
        "b.append('elfin')\n",
        "b"
      ]
    },
    {
      "cell_type": "markdown",
      "metadata": {
        "id": "EczSepwRcV6F"
      },
      "source": [
        "can use variables as indexes"
      ]
    },
    {
      "cell_type": "code",
      "execution_count": null,
      "metadata": {
        "id": "0IOTVx8OcV6F",
        "outputId": "78ba9103-85ed-4a9e-aea3-4e44fdaff142"
      },
      "outputs": [
        {
          "name": "stdout",
          "output_type": "stream",
          "text": [
            "13 --> 20.0\n"
          ]
        }
      ],
      "source": [
        "import numpy as np\n",
        "i = np.random.randint(len(b))\n",
        "print (i, '-->', b[i])"
      ]
    },
    {
      "cell_type": "markdown",
      "metadata": {
        "id": "jNK8OQ18cV6F"
      },
      "source": [
        "truly **any** object"
      ]
    },
    {
      "cell_type": "code",
      "execution_count": null,
      "metadata": {
        "id": "lJ4T3jXNcV6F"
      },
      "outputs": [],
      "source": [
        "a = 32\n",
        "b = 10\n",
        "s = [1,2,3,\"hola\", [10, \"nunca\", 90], a==b, -32]"
      ]
    },
    {
      "cell_type": "code",
      "execution_count": null,
      "metadata": {
        "id": "rxNZtyXIcV6F",
        "outputId": "f44dc97b-20c6-44c7-dc87-dc1f1a7183a3"
      },
      "outputs": [
        {
          "name": "stdout",
          "output_type": "stream",
          "text": [
            "[1, 2, 3, 'hola', [10, 'nunca', 90], False, -32]\n"
          ]
        }
      ],
      "source": [
        "print (s)"
      ]
    },
    {
      "cell_type": "code",
      "execution_count": null,
      "metadata": {
        "id": "AB9-MmVWcV6F",
        "outputId": "66e1abfd-a1d0-422a-e7c5-67b82d90d188"
      },
      "outputs": [
        {
          "name": "stdout",
          "output_type": "stream",
          "text": [
            "7\n"
          ]
        }
      ],
      "source": [
        "print (len(s))"
      ]
    },
    {
      "cell_type": "code",
      "execution_count": null,
      "metadata": {
        "id": "pJhGKYcscV6G",
        "outputId": "a5dc3953-a7b5-49e1-8246-8860cd94aa22"
      },
      "outputs": [
        {
          "data": {
            "text/plain": [
              "[10, 'nunca', 90]"
            ]
          },
          "execution_count": 25,
          "metadata": {},
          "output_type": "execute_result"
        }
      ],
      "source": [
        "s[4]"
      ]
    },
    {
      "cell_type": "code",
      "execution_count": null,
      "metadata": {
        "id": "s0klS54lcV6G",
        "outputId": "3329b2c6-397d-40cf-ff73-aa47ca6a4d45"
      },
      "outputs": [
        {
          "data": {
            "text/plain": [
              "'nunca'"
            ]
          },
          "execution_count": 26,
          "metadata": {},
          "output_type": "execute_result"
        }
      ],
      "source": [
        "s[4][1]"
      ]
    },
    {
      "cell_type": "code",
      "execution_count": null,
      "metadata": {
        "id": "PRWKVs_gcV6G",
        "outputId": "ca6bef6e-c8df-4129-c18a-8201dbef8b3b"
      },
      "outputs": [
        {
          "data": {
            "text/plain": [
              "'o'"
            ]
          },
          "execution_count": 27,
          "metadata": {},
          "output_type": "execute_result"
        }
      ],
      "source": [
        "s[3][1]"
      ]
    },
    {
      "cell_type": "code",
      "execution_count": null,
      "metadata": {
        "id": "1DLPDMpGcV6G",
        "outputId": "5aac00ed-510d-49bf-baa9-7d7ea2484b21"
      },
      "outputs": [
        {
          "ename": "TypeError",
          "evalue": "'int' object is not subscriptable",
          "output_type": "error",
          "traceback": [
            "\u001b[0;31m---------------------------------------------------------------------------\u001b[0m",
            "\u001b[0;31mTypeError\u001b[0m                                 Traceback (most recent call last)",
            "\u001b[0;32m<ipython-input-28-3e154303a25b>\u001b[0m in \u001b[0;36m<module>\u001b[0;34m\u001b[0m\n\u001b[0;32m----> 1\u001b[0;31m \u001b[0ms\u001b[0m\u001b[0;34m[\u001b[0m\u001b[0;36m2\u001b[0m\u001b[0;34m]\u001b[0m\u001b[0;34m[\u001b[0m\u001b[0;36m1\u001b[0m\u001b[0;34m]\u001b[0m\u001b[0;34m\u001b[0m\u001b[0;34m\u001b[0m\u001b[0m\n\u001b[0m",
            "\u001b[0;31mTypeError\u001b[0m: 'int' object is not subscriptable"
          ]
        }
      ],
      "source": [
        "s[2][1]"
      ]
    },
    {
      "cell_type": "markdown",
      "metadata": {
        "id": "GP3tvnS7cV6G"
      },
      "source": [
        "**some list operations**"
      ]
    },
    {
      "cell_type": "code",
      "execution_count": null,
      "metadata": {
        "id": "7KmZd8wtcV6K"
      },
      "outputs": [],
      "source": [
        "a = [\"hola\", 2, \"adios\"]\n",
        "b = [-10., 1, [3, 4]]"
      ]
    },
    {
      "cell_type": "code",
      "execution_count": null,
      "metadata": {
        "id": "2D_HNH1tcV6K",
        "outputId": "0ba1e3b5-675c-4a54-f436-61bd3ad223dc"
      },
      "outputs": [
        {
          "data": {
            "text/plain": [
              "['hola', 2, 'adios', -10.0, 1, [3, 4]]"
            ]
          },
          "execution_count": 33,
          "metadata": {},
          "output_type": "execute_result"
        }
      ],
      "source": [
        "a + b"
      ]
    },
    {
      "cell_type": "code",
      "execution_count": null,
      "metadata": {
        "id": "t8qGSemYcV6K",
        "outputId": "0fee11ad-9187-4f50-92c3-40846f61c778"
      },
      "outputs": [
        {
          "data": {
            "text/plain": [
              "['hola', 2, 'adios', 'hola', 2, 'adios']"
            ]
          },
          "execution_count": 34,
          "metadata": {},
          "output_type": "execute_result"
        }
      ],
      "source": [
        "a + a"
      ]
    },
    {
      "cell_type": "code",
      "execution_count": null,
      "metadata": {
        "id": "Ar5NLfeLcV6L",
        "outputId": "147c211f-95ca-4db9-f8b8-dfc993b90ec7"
      },
      "outputs": [
        {
          "data": {
            "text/plain": [
              "['hola', 2, 'adios', 'hola', 2, 'adios']"
            ]
          },
          "execution_count": 35,
          "metadata": {},
          "output_type": "execute_result"
        }
      ],
      "source": [
        "a*2"
      ]
    },
    {
      "cell_type": "code",
      "execution_count": null,
      "metadata": {
        "id": "38gJN5hkcV6L",
        "outputId": "c7c7be96-ad9e-4949-8bd3-6221f7c757d1"
      },
      "outputs": [
        {
          "ename": "TypeError",
          "evalue": "unsupported operand type(s) for -: 'list' and 'list'",
          "output_type": "error",
          "traceback": [
            "\u001b[0;31m---------------------------------------------------------------------------\u001b[0m",
            "\u001b[0;31mTypeError\u001b[0m                                 Traceback (most recent call last)",
            "\u001b[0;32m<ipython-input-36-09bd029d0285>\u001b[0m in \u001b[0;36m<module>\u001b[0;34m\u001b[0m\n\u001b[0;32m----> 1\u001b[0;31m \u001b[0ma\u001b[0m \u001b[0;34m-\u001b[0m \u001b[0mb\u001b[0m\u001b[0;34m\u001b[0m\u001b[0;34m\u001b[0m\u001b[0m\n\u001b[0m",
            "\u001b[0;31mTypeError\u001b[0m: unsupported operand type(s) for -: 'list' and 'list'"
          ]
        }
      ],
      "source": [
        "a - b"
      ]
    },
    {
      "cell_type": "code",
      "execution_count": null,
      "metadata": {
        "id": "fJC1MDJZcV6L",
        "outputId": "01af9ab5-4781-4232-c27c-32c1b3ded329"
      },
      "outputs": [
        {
          "data": {
            "text/plain": [
              "True"
            ]
          },
          "execution_count": 37,
          "metadata": {},
          "output_type": "execute_result"
        }
      ],
      "source": [
        "2 in a"
      ]
    },
    {
      "cell_type": "code",
      "execution_count": null,
      "metadata": {
        "id": "aHlti25-cV6L",
        "outputId": "0eb554fa-3814-4c48-b6eb-efbec8a29e6b"
      },
      "outputs": [
        {
          "data": {
            "text/plain": [
              "True"
            ]
          },
          "execution_count": 38,
          "metadata": {},
          "output_type": "execute_result"
        }
      ],
      "source": [
        "\"hola\" not in b"
      ]
    },
    {
      "cell_type": "code",
      "execution_count": null,
      "metadata": {
        "id": "JMob6pwwcV6L",
        "outputId": "b336515a-5e87-44e9-e75b-fe4e3d0e569e"
      },
      "outputs": [
        {
          "data": {
            "text/plain": [
              "True"
            ]
          },
          "execution_count": 39,
          "metadata": {},
          "output_type": "execute_result"
        }
      ],
      "source": [
        "[3,4] in b"
      ]
    },
    {
      "cell_type": "code",
      "execution_count": null,
      "metadata": {
        "id": "CcpwxNT2cV6L"
      },
      "outputs": [],
      "source": []
    },
    {
      "cell_type": "markdown",
      "metadata": {
        "id": "ajnIfGIJcV6L"
      },
      "source": [
        "## Strings\n",
        "\n",
        "a string is like a special kind of list"
      ]
    },
    {
      "cell_type": "code",
      "execution_count": null,
      "metadata": {
        "id": "VXAhkOu6cV6M",
        "outputId": "2ad131f5-a75d-4639-aeca-eff42d84c122"
      },
      "outputs": [
        {
          "data": {
            "text/plain": [
              "'en un lugar de la mancha'"
            ]
          },
          "execution_count": 40,
          "metadata": {},
          "output_type": "execute_result"
        }
      ],
      "source": [
        "a = \"en un lugar de la mancha\"\n",
        "a"
      ]
    },
    {
      "cell_type": "code",
      "execution_count": null,
      "metadata": {
        "id": "1dhgM3c_cV6M",
        "outputId": "f5abe006-540b-46fb-bd2d-3f487e62373d"
      },
      "outputs": [
        {
          "data": {
            "text/plain": [
              "'un lugar de la mancha'"
            ]
          },
          "execution_count": 41,
          "metadata": {},
          "output_type": "execute_result"
        }
      ],
      "source": [
        "a[3:]"
      ]
    },
    {
      "cell_type": "code",
      "execution_count": null,
      "metadata": {
        "id": "ydgfLmLkcV6M",
        "outputId": "579eb5af-2f4b-43f8-dd59-3580b60eebd4"
      },
      "outputs": [
        {
          "data": {
            "text/plain": [
              "' la mancha'"
            ]
          },
          "execution_count": 42,
          "metadata": {},
          "output_type": "execute_result"
        }
      ],
      "source": [
        "a[-10:]"
      ]
    },
    {
      "cell_type": "code",
      "execution_count": null,
      "metadata": {
        "id": "kHCplkKccV6M",
        "outputId": "79e58d48-f22d-45d8-dc3a-da719159859c"
      },
      "outputs": [
        {
          "data": {
            "text/plain": [
              "'ahcnam al ed ragul nu ne'"
            ]
          },
          "execution_count": 43,
          "metadata": {},
          "output_type": "execute_result"
        }
      ],
      "source": [
        "a[::-1]"
      ]
    },
    {
      "cell_type": "code",
      "execution_count": null,
      "metadata": {
        "id": "zaOROFeBcV6M",
        "outputId": "bd0bee28-7aa6-47d1-9e1d-581891465575"
      },
      "outputs": [
        {
          "data": {
            "text/plain": [
              "'e nlgrd amnh'"
            ]
          },
          "execution_count": 44,
          "metadata": {},
          "output_type": "execute_result"
        }
      ],
      "source": [
        "a[::2]"
      ]
    },
    {
      "cell_type": "code",
      "execution_count": null,
      "metadata": {
        "id": "eh_E-zn4cV6M",
        "outputId": "7968748a-8999-442b-91bd-e70a7da9ba29"
      },
      "outputs": [
        {
          "data": {
            "text/plain": [
              "True"
            ]
          },
          "execution_count": 45,
          "metadata": {},
          "output_type": "execute_result"
        }
      ],
      "source": [
        "'lugar' in a"
      ]
    },
    {
      "cell_type": "markdown",
      "metadata": {
        "id": "RM6wvJmGcV6M"
      },
      "source": [
        "with special operations"
      ]
    },
    {
      "cell_type": "code",
      "execution_count": null,
      "metadata": {
        "id": "fJtFu93bcV6N",
        "outputId": "4ee58ee6-6e27-42a1-cb14-1e66410013f3"
      },
      "outputs": [
        {
          "data": {
            "text/plain": [
              "['en', 'un', 'lugar', 'de', 'la', 'mancha']"
            ]
          },
          "execution_count": 46,
          "metadata": {},
          "output_type": "execute_result"
        }
      ],
      "source": [
        "words = a.split()\n",
        "words"
      ]
    },
    {
      "cell_type": "code",
      "execution_count": null,
      "metadata": {
        "id": "SozeKkcjcV6N",
        "outputId": "dfc3fba9-84df-477f-f1eb-468536161211"
      },
      "outputs": [
        {
          "data": {
            "text/plain": [
              "'en::un::lugar::de::la::mancha'"
            ]
          },
          "execution_count": 47,
          "metadata": {},
          "output_type": "execute_result"
        }
      ],
      "source": [
        "\"::\".join(words)"
      ]
    },
    {
      "cell_type": "code",
      "execution_count": null,
      "metadata": {
        "id": "D784MRqgcV6N",
        "outputId": "db346cbe-c857-44e1-b2e7-865343cd41ed"
      },
      "outputs": [
        {
          "data": {
            "text/plain": [
              "'EN UN LUGAR DE LA MANCHA'"
            ]
          },
          "execution_count": 48,
          "metadata": {},
          "output_type": "execute_result"
        }
      ],
      "source": [
        "a.upper()"
      ]
    },
    {
      "cell_type": "code",
      "execution_count": null,
      "metadata": {
        "id": "xk0mL1YtcV6N",
        "outputId": "8913893d-9ec3-4103-b404-05fbfe7ffe48"
      },
      "outputs": [
        {
          "data": {
            "text/plain": [
              "True"
            ]
          },
          "execution_count": 49,
          "metadata": {},
          "output_type": "execute_result"
        }
      ],
      "source": [
        "a.startswith(\"en\")"
      ]
    },
    {
      "cell_type": "code",
      "execution_count": null,
      "metadata": {
        "id": "V4qaUqsccV6O",
        "outputId": "746d4dd5-b92a-4373-a4a4-cd23bb0fe243"
      },
      "outputs": [
        {
          "data": {
            "text/plain": [
              "False"
            ]
          },
          "execution_count": 50,
          "metadata": {},
          "output_type": "execute_result"
        }
      ],
      "source": [
        "a.endswith(\"lugar\")"
      ]
    },
    {
      "cell_type": "code",
      "execution_count": null,
      "metadata": {
        "id": "gKISX2xwcV6O",
        "outputId": "08ef53a8-3148-4b08-a8df-cf880580ef32"
      },
      "outputs": [
        {
          "data": {
            "text/plain": [
              "6"
            ]
          },
          "execution_count": 51,
          "metadata": {},
          "output_type": "execute_result"
        }
      ],
      "source": [
        "a.find('lugar')"
      ]
    },
    {
      "cell_type": "code",
      "execution_count": null,
      "metadata": {
        "id": "UtRgkVj_cV6O",
        "outputId": "e34f7598-e838-408d-d7ce-16b06fb6b88c"
      },
      "outputs": [
        {
          "data": {
            "text/plain": [
              "'lugar de la mancha'"
            ]
          },
          "execution_count": 52,
          "metadata": {},
          "output_type": "execute_result"
        }
      ],
      "source": [
        "a[a.find('lugar'):]"
      ]
    },
    {
      "cell_type": "code",
      "execution_count": null,
      "metadata": {
        "id": "wbwoencmcV6O"
      },
      "outputs": [],
      "source": []
    },
    {
      "cell_type": "markdown",
      "metadata": {
        "id": "B5rjEPlucV6P"
      },
      "source": [
        "## `for` loops\n",
        "\n",
        "unlike other languages, `for` loops are defined over **iterables**. A `list` is an iterable, and there are many other iterables.\n",
        "\n",
        "Python syntax is **indented**.\n",
        "\n",
        "Observe python determines the semantics of `*` according to the context"
      ]
    },
    {
      "cell_type": "code",
      "execution_count": null,
      "metadata": {
        "id": "yWg5F6TpcV6P"
      },
      "outputs": [],
      "source": [
        "b = [1,10, 20.5, \"hola\", 10.]"
      ]
    },
    {
      "cell_type": "code",
      "execution_count": null,
      "metadata": {
        "id": "NssDF6azcV6P",
        "outputId": "57652876-1caa-4b29-9658-deaedca1e03c"
      },
      "outputs": [
        {
          "name": "stdout",
          "output_type": "stream",
          "text": [
            "1 --> <class 'int'> x2 --> 2\n",
            "10 --> <class 'int'> x2 --> 20\n",
            "20.5 --> <class 'float'> x2 --> 41.0\n",
            "hola --> <class 'str'> x2 --> holahola\n",
            "10.0 --> <class 'float'> x2 --> 20.0\n"
          ]
        }
      ],
      "source": [
        "for i in b:\n",
        "    print (i, \"-->\", type(i), \"x2 -->\", i*2)"
      ]
    },
    {
      "cell_type": "markdown",
      "metadata": {
        "id": "wkyOQPbvcV6P"
      },
      "source": [
        "another example of python as interpreted language"
      ]
    },
    {
      "cell_type": "code",
      "execution_count": null,
      "metadata": {
        "id": "gZwAC1M2cV6P",
        "outputId": "286c9c79-56b0-4bed-fb37-6b4c5ba33485"
      },
      "outputs": [
        {
          "name": "stdout",
          "output_type": "stream",
          "text": [
            "1 --> <class 'int'> x2 --> 1\n",
            "10 --> <class 'int'> x2 --> 100\n",
            "20.5 --> <class 'float'> x2 --> 420.25\n"
          ]
        },
        {
          "ename": "TypeError",
          "evalue": "unsupported operand type(s) for ** or pow(): 'str' and 'int'",
          "output_type": "error",
          "traceback": [
            "\u001b[0;31m---------------------------------------------------------------------------\u001b[0m",
            "\u001b[0;31mTypeError\u001b[0m                                 Traceback (most recent call last)",
            "\u001b[0;32m<ipython-input-55-4b8904782ded>\u001b[0m in \u001b[0;36m<module>\u001b[0;34m\u001b[0m\n\u001b[1;32m      1\u001b[0m \u001b[0mb\u001b[0m \u001b[0;34m=\u001b[0m \u001b[0;34m[\u001b[0m\u001b[0;36m1\u001b[0m\u001b[0;34m,\u001b[0m\u001b[0;36m10\u001b[0m\u001b[0;34m,\u001b[0m \u001b[0;36m20.5\u001b[0m\u001b[0;34m,\u001b[0m \u001b[0;34m\"hola\"\u001b[0m\u001b[0;34m,\u001b[0m \u001b[0;36m10.\u001b[0m\u001b[0;34m]\u001b[0m\u001b[0;34m\u001b[0m\u001b[0;34m\u001b[0m\u001b[0m\n\u001b[1;32m      2\u001b[0m \u001b[0;32mfor\u001b[0m \u001b[0mi\u001b[0m \u001b[0;32min\u001b[0m \u001b[0mb\u001b[0m\u001b[0;34m:\u001b[0m\u001b[0;34m\u001b[0m\u001b[0;34m\u001b[0m\u001b[0m\n\u001b[0;32m----> 3\u001b[0;31m     \u001b[0mprint\u001b[0m \u001b[0;34m(\u001b[0m\u001b[0mi\u001b[0m\u001b[0;34m,\u001b[0m \u001b[0;34m\"-->\"\u001b[0m\u001b[0;34m,\u001b[0m \u001b[0mtype\u001b[0m\u001b[0;34m(\u001b[0m\u001b[0mi\u001b[0m\u001b[0;34m)\u001b[0m\u001b[0;34m,\u001b[0m \u001b[0;34m\"x2 -->\"\u001b[0m\u001b[0;34m,\u001b[0m \u001b[0mi\u001b[0m\u001b[0;34m**\u001b[0m\u001b[0;36m2\u001b[0m\u001b[0;34m)\u001b[0m\u001b[0;34m\u001b[0m\u001b[0;34m\u001b[0m\u001b[0m\n\u001b[0m",
            "\u001b[0;31mTypeError\u001b[0m: unsupported operand type(s) for ** or pow(): 'str' and 'int'"
          ]
        }
      ],
      "source": [
        "b = [1,10, 20.5, \"hola\", 10.]\n",
        "for i in b:\n",
        "    print (i, \"-->\", type(i), \"x2 -->\", i**2)"
      ]
    },
    {
      "cell_type": "markdown",
      "metadata": {
        "id": "wwwJxfnHcV6Q"
      },
      "source": [
        "**iterators**\n",
        "\n",
        "sometimes we do not need to hold all the contents of a list in memory, but they can be generated as they are being asked for."
      ]
    },
    {
      "cell_type": "code",
      "execution_count": null,
      "metadata": {
        "scrolled": true,
        "id": "OSr01_OJcV6Q",
        "outputId": "7074a250-8657-4320-f164-f802aee6e2c5"
      },
      "outputs": [
        {
          "data": {
            "text/plain": [
              "range(-3, 10, 2)"
            ]
          },
          "execution_count": 56,
          "metadata": {},
          "output_type": "execute_result"
        }
      ],
      "source": [
        "k = range(-3,10,2)\n",
        "k"
      ]
    },
    {
      "cell_type": "markdown",
      "metadata": {
        "id": "QN-IXCj7cV6Q"
      },
      "source": [
        "size in memory"
      ]
    },
    {
      "cell_type": "code",
      "execution_count": null,
      "metadata": {
        "id": "HXvdPxaKcV6Q",
        "outputId": "343f722a-dd30-47ea-eaff-acb5e4087cee"
      },
      "outputs": [
        {
          "data": {
            "text/plain": [
              "48"
            ]
          },
          "execution_count": 57,
          "metadata": {},
          "output_type": "execute_result"
        }
      ],
      "source": [
        "k.__sizeof__()"
      ]
    },
    {
      "cell_type": "code",
      "execution_count": null,
      "metadata": {
        "id": "Hze_AGJfcV6R",
        "outputId": "2a724349-0cdb-4deb-b79a-8c40ebb35eca"
      },
      "outputs": [
        {
          "name": "stdout",
          "output_type": "stream",
          "text": [
            "-3, -1, 1, 3, 5, 7, 9, "
          ]
        }
      ],
      "source": [
        "for i in k:\n",
        "    print (i, end=\", \")"
      ]
    },
    {
      "cell_type": "code",
      "execution_count": null,
      "metadata": {
        "id": "NWy_lcnTcV6R",
        "outputId": "bdeaf8ab-c4cd-4cf9-fef7-edda0c6c8ffa"
      },
      "outputs": [
        {
          "data": {
            "text/plain": [
              "48"
            ]
          },
          "execution_count": 59,
          "metadata": {},
          "output_type": "execute_result"
        }
      ],
      "source": [
        "big_range = range(0,100000,2)\n",
        "big_range.__sizeof__()"
      ]
    },
    {
      "cell_type": "code",
      "execution_count": null,
      "metadata": {
        "id": "NR0frl9icV6R",
        "outputId": "8880c404-d564-488f-b6c0-4f069eee9ead"
      },
      "outputs": [
        {
          "data": {
            "text/plain": [
              "2499950000"
            ]
          },
          "execution_count": 60,
          "metadata": {},
          "output_type": "execute_result"
        }
      ],
      "source": [
        "s = 0\n",
        "for i in big_range:\n",
        "    s += i\n",
        "s"
      ]
    },
    {
      "cell_type": "markdown",
      "metadata": {
        "id": "UuARDf-ucV6R"
      },
      "source": [
        "if converted to a list, then they are physically in memory"
      ]
    },
    {
      "cell_type": "code",
      "execution_count": null,
      "metadata": {
        "id": "5zpOAJJvcV6R",
        "outputId": "9b326fa3-9f06-45fd-c45c-b12193c1976b"
      },
      "outputs": [
        {
          "data": {
            "text/plain": [
              "450088"
            ]
          },
          "execution_count": 61,
          "metadata": {},
          "output_type": "execute_result"
        }
      ],
      "source": [
        "a = list(big_range)\n",
        "a.__sizeof__()"
      ]
    },
    {
      "cell_type": "markdown",
      "metadata": {
        "id": "MyhxqagXcV6R"
      },
      "source": [
        "zip iterators"
      ]
    },
    {
      "cell_type": "code",
      "execution_count": null,
      "metadata": {
        "id": "FlV8ZxamcV6R",
        "outputId": "4506adda-5b2b-4a22-dce4-7cc1704ac6d4"
      },
      "outputs": [
        {
          "name": "stdout",
          "output_type": "stream",
          "text": [
            "nada 1\n",
            "adios 10\n",
            "10.0 20.5\n"
          ]
        }
      ],
      "source": [
        "a = [\"nada\", \"adios\", 10.]\n",
        "b = [1,10, 20.5, \"hola\", 10.]\n",
        "\n",
        "for i,j in zip(a,b):\n",
        "    print (i,j)"
      ]
    },
    {
      "cell_type": "code",
      "execution_count": null,
      "metadata": {
        "id": "StIcISN0cV6R"
      },
      "outputs": [],
      "source": []
    },
    {
      "cell_type": "markdown",
      "metadata": {
        "id": "CdMizge7cV6S"
      },
      "source": [
        "## Other control structures\n",
        "\n",
        "string formatting / if / then / break / continue / while, etc."
      ]
    },
    {
      "cell_type": "code",
      "execution_count": null,
      "metadata": {
        "id": "OA8W9-0xcV6S",
        "outputId": "ef887325-e343-45c2-84df-f1b0d669cc49"
      },
      "outputs": [
        {
          "name": "stdout",
          "output_type": "stream",
          "text": [
            "1 <class 'int'>\n",
            "10 <class 'int'>\n",
            "20.5 <class 'float'>\n"
          ]
        }
      ],
      "source": [
        "b = [1,10, 20.5, \"hola\", 10., 12]\n",
        "for i in b:\n",
        "    if i=='hola':\n",
        "        break\n",
        "    print (i, type(i))"
      ]
    },
    {
      "cell_type": "code",
      "execution_count": null,
      "metadata": {
        "id": "CD5GBHlKcV6S",
        "outputId": "f8286161-750b-45a5-dcfd-3255091f196e"
      },
      "outputs": [
        {
          "name": "stdout",
          "output_type": "stream",
          "text": [
            "INT 1 <class 'int'>\n",
            "INT 10 <class 'int'>\n",
            ">10 20.5 <class 'float'>\n"
          ]
        }
      ],
      "source": [
        "b = [1,10, 20.5, \"hola\", 10., 12]\n",
        "for i in b:\n",
        "    if i=='hola':\n",
        "        break\n",
        "    elif type(i)==int:\n",
        "        print (\"INT\", end=\" \")\n",
        "    elif i>10:\n",
        "        print (\">10\", end=\" \")\n",
        "    print (i, type(i))"
      ]
    },
    {
      "cell_type": "code",
      "execution_count": null,
      "metadata": {
        "id": "y8OZcjP6cV6S",
        "outputId": "31f3e102-63ae-4f03-fd67-96a71d4dc02b"
      },
      "outputs": [
        {
          "name": "stdout",
          "output_type": "stream",
          "text": [
            "INT 1 <class 'int'>\n",
            "INT 10 <class 'int'>\n",
            ">10 20.5 <class 'float'>\n",
            "UNK 10.0 <class 'float'>\n",
            "INT 12 <class 'int'>\n"
          ]
        }
      ],
      "source": [
        "for i in b:\n",
        "    if i=='hola':\n",
        "        continue\n",
        "    elif type(i)==int:\n",
        "        print (\"INT\", end=\" \")\n",
        "    elif i>10:\n",
        "        print (\">10\", end=\" \")\n",
        "    else:\n",
        "        print (\"UNK\", end=\" \")\n",
        "    print (i, type(i))\n"
      ]
    },
    {
      "cell_type": "code",
      "execution_count": null,
      "metadata": {
        "id": "y0DcSKCZcV6S",
        "outputId": "c253b5bc-643c-40e5-e59b-b22446033b66"
      },
      "outputs": [
        {
          "name": "stdout",
          "output_type": "stream",
          "text": [
            "00 ::   1.0 ::        <class 'int'>\n",
            "01 ::  10.0 ::        <class 'int'>\n",
            "02 ::  20.5 ::      <class 'float'>\n",
            "04 ::  10.0 ::      <class 'float'>\n",
            "05 ::  12.0 ::        <class 'int'>\n"
          ]
        }
      ],
      "source": [
        "for pos, i in enumerate(b):\n",
        "    if i=='hola':\n",
        "        continue\n",
        "    print (\"%02d :: %5.1f :: %20s\"%(pos,i,type(i)))"
      ]
    },
    {
      "cell_type": "code",
      "execution_count": null,
      "metadata": {
        "id": "GmpA2S5IcV6T",
        "outputId": "17864dcc-f0cf-44ec-f79a-57aaefbaa757"
      },
      "outputs": [
        {
          "name": "stdout",
          "output_type": "stream",
          "text": [
            "1 10 <class 'int'>\n",
            "2 20.5 <class 'float'>\n",
            "3 hola <class 'str'>\n",
            "4 10.0 <class 'float'>\n",
            "5 12 <class 'int'>\n"
          ]
        }
      ],
      "source": [
        "i=1\n",
        "while i<len(b):\n",
        "    print (i, b[i], type(b[i]))\n",
        "    i += 1"
      ]
    },
    {
      "cell_type": "markdown",
      "metadata": {
        "id": "gbOk4NpfcV6T"
      },
      "source": [
        "## Dictionaries"
      ]
    },
    {
      "cell_type": "code",
      "execution_count": null,
      "metadata": {
        "id": "FiU1TbM-cV6T",
        "outputId": "eb45d999-503f-41d8-da4e-b9b71a15a854"
      },
      "outputs": [
        {
          "data": {
            "text/plain": [
              "16"
            ]
          },
          "execution_count": 68,
          "metadata": {},
          "output_type": "execute_result"
        }
      ],
      "source": [
        "d = {\"i1\": 16, \"nombre\": \"haskel\", \"edad\": 32, 20: \"el numero 20\"}\n",
        "\n",
        "d['i1']"
      ]
    },
    {
      "cell_type": "code",
      "execution_count": null,
      "metadata": {
        "id": "zOuZLbQxcV6T",
        "outputId": "4785c6fb-00c4-4ad7-8c29-59fc753e4014"
      },
      "outputs": [
        {
          "data": {
            "text/plain": [
              "'el numero 20'"
            ]
          },
          "execution_count": 69,
          "metadata": {},
          "output_type": "execute_result"
        }
      ],
      "source": [
        "d[20]"
      ]
    },
    {
      "cell_type": "code",
      "execution_count": null,
      "metadata": {
        "id": "KJxrnfBEcV6U",
        "outputId": "6b1a6545-f690-4441-cc2c-b0129359cc4a"
      },
      "outputs": [
        {
          "data": {
            "text/plain": [
              "dict_values([16, 'haskel', 32, 'el numero 20'])"
            ]
          },
          "execution_count": 70,
          "metadata": {},
          "output_type": "execute_result"
        }
      ],
      "source": [
        "d.values()"
      ]
    },
    {
      "cell_type": "code",
      "execution_count": null,
      "metadata": {
        "id": "scncs01kcV6U",
        "outputId": "84a4c2a0-5ba8-429b-d8ca-c6ab754d0386"
      },
      "outputs": [
        {
          "data": {
            "text/plain": [
              "dict_keys(['i1', 'nombre', 'edad', 20])"
            ]
          },
          "execution_count": 71,
          "metadata": {},
          "output_type": "execute_result"
        }
      ],
      "source": [
        "d.keys()"
      ]
    },
    {
      "cell_type": "code",
      "execution_count": null,
      "metadata": {
        "id": "KYbAZQfIcV6U",
        "outputId": "c6d142fb-232c-426d-a3df-5eff781fa935"
      },
      "outputs": [
        {
          "name": "stdout",
          "output_type": "stream",
          "text": [
            "la clave i1 tiene el valor 16\n",
            "la clave nombre tiene el valor haskel\n",
            "la clave edad tiene el valor 32\n",
            "la clave 20 tiene el valor el numero 20\n"
          ]
        }
      ],
      "source": [
        "for i in d.keys():\n",
        "    print(\"la clave\", i, \"tiene el valor\", d[i])"
      ]
    },
    {
      "cell_type": "code",
      "execution_count": null,
      "metadata": {
        "id": "52QS_7VNcV6U",
        "outputId": "35f04bc3-0aed-4632-f185-a0647c6cf2a4"
      },
      "outputs": [
        {
          "name": "stdout",
          "output_type": "stream",
          "text": [
            "la clave i1 tiene el valor 16\n",
            "la clave nombre tiene el valor haskel\n",
            "la clave edad tiene el valor 32\n",
            "la clave 20 tiene el valor el numero 20\n"
          ]
        }
      ],
      "source": [
        "for k,v in d.items():\n",
        "    print(\"la clave\", k, \"tiene el valor\", v)"
      ]
    },
    {
      "cell_type": "markdown",
      "metadata": {
        "id": "0XO7Wa16cV6U"
      },
      "source": [
        "and can be updated"
      ]
    },
    {
      "cell_type": "code",
      "execution_count": null,
      "metadata": {
        "id": "MEHdeRRFcV6U"
      },
      "outputs": [],
      "source": [
        "d[48] = \"otro numero\"\n",
        "d[\"nada\"] = 0"
      ]
    },
    {
      "cell_type": "code",
      "execution_count": null,
      "metadata": {
        "id": "is2-l5a6cV6U",
        "outputId": "30c9cb8c-5357-458c-e0ec-274a9e67f3ad"
      },
      "outputs": [
        {
          "name": "stdout",
          "output_type": "stream",
          "text": [
            "la clave i1 tiene el valor 16\n",
            "la clave nombre tiene el valor haskel\n",
            "la clave edad tiene el valor 32\n",
            "la clave 20 tiene el valor el numero 20\n",
            "la clave 48 tiene el valor otro numero\n",
            "la clave nada tiene el valor 0\n"
          ]
        }
      ],
      "source": [
        "for k,v in d.items():\n",
        "    print(\"la clave\", k, \"tiene el valor\", v)"
      ]
    },
    {
      "cell_type": "markdown",
      "metadata": {
        "id": "vVCoo2EXcV6U"
      },
      "source": [
        "## Tuples\n",
        "\n",
        "tuples are **inmutable** lists"
      ]
    },
    {
      "cell_type": "code",
      "execution_count": null,
      "metadata": {
        "id": "z3_k42FncV6V"
      },
      "outputs": [],
      "source": [
        "a = (10,3,4,5)"
      ]
    },
    {
      "cell_type": "code",
      "execution_count": null,
      "metadata": {
        "id": "uzzWNPf8cV6V",
        "outputId": "13b3a255-4b1e-4bf4-91e0-0f7a696842b3"
      },
      "outputs": [
        {
          "data": {
            "text/plain": [
              "(5, (5, 4, 3, 10), 22)"
            ]
          },
          "execution_count": 6,
          "metadata": {},
          "output_type": "execute_result"
        }
      ],
      "source": [
        "a[3], a[::-1], sum(a)"
      ]
    },
    {
      "cell_type": "code",
      "execution_count": null,
      "metadata": {
        "id": "ACTcdHKCcV6V",
        "outputId": "21616864-2d68-4227-b4a7-0f27807a6fef"
      },
      "outputs": [
        {
          "ename": "TypeError",
          "evalue": "'tuple' object does not support item assignment",
          "output_type": "error",
          "traceback": [
            "\u001b[0;31m---------------------------------------------------------------------------\u001b[0m",
            "\u001b[0;31mTypeError\u001b[0m                                 Traceback (most recent call last)",
            "\u001b[0;32m<ipython-input-4-36ab6b9a6038>\u001b[0m in \u001b[0;36m<module>\u001b[0;34m\u001b[0m\n\u001b[0;32m----> 1\u001b[0;31m \u001b[0ma\u001b[0m\u001b[0;34m[\u001b[0m\u001b[0;36m3\u001b[0m\u001b[0;34m]\u001b[0m\u001b[0;34m=\u001b[0m\u001b[0;36m1\u001b[0m\u001b[0;34m\u001b[0m\u001b[0;34m\u001b[0m\u001b[0m\n\u001b[0m",
            "\u001b[0;31mTypeError\u001b[0m: 'tuple' object does not support item assignment"
          ]
        }
      ],
      "source": [
        "a[3]=1"
      ]
    },
    {
      "cell_type": "markdown",
      "metadata": {
        "id": "oSRv_e5CcV6V"
      },
      "source": [
        "and thus can be used for keys, indexing, etc."
      ]
    },
    {
      "cell_type": "code",
      "execution_count": null,
      "metadata": {
        "id": "tQiCKYIlcV6V",
        "outputId": "64ca5aca-8044-49bd-a550-7db5b44a5e4b"
      },
      "outputs": [
        {
          "data": {
            "text/plain": [
              "{'hola': 3, 1: 'one', (4, 5): 'a tuple'}"
            ]
          },
          "execution_count": 8,
          "metadata": {},
          "output_type": "execute_result"
        }
      ],
      "source": [
        "d = {}\n",
        "d[\"hola\"] = 3\n",
        "d[1] = \"one\"\n",
        "d[(4,5)] = \"a tuple\"\n",
        "d"
      ]
    },
    {
      "cell_type": "markdown",
      "metadata": {
        "id": "9spU6EswcV6V"
      },
      "source": [
        "however"
      ]
    },
    {
      "cell_type": "code",
      "execution_count": null,
      "metadata": {
        "id": "w7GYMbFYcV6V",
        "outputId": "2fe9f033-363d-4034-cc05-9458f3690281"
      },
      "outputs": [
        {
          "ename": "TypeError",
          "evalue": "unhashable type: 'list'",
          "output_type": "error",
          "traceback": [
            "\u001b[0;31m---------------------------------------------------------------------------\u001b[0m",
            "\u001b[0;31mTypeError\u001b[0m                                 Traceback (most recent call last)",
            "\u001b[0;32m<ipython-input-9-857cb2d3ff14>\u001b[0m in \u001b[0;36m<module>\u001b[0;34m\u001b[0m\n\u001b[0;32m----> 1\u001b[0;31m \u001b[0md\u001b[0m\u001b[0;34m[\u001b[0m\u001b[0;34m[\u001b[0m\u001b[0;36m4\u001b[0m\u001b[0;34m,\u001b[0m\u001b[0;36m5\u001b[0m\u001b[0;34m]\u001b[0m\u001b[0;34m]\u001b[0m\u001b[0;34m\u001b[0m\u001b[0;34m\u001b[0m\u001b[0m\n\u001b[0m",
            "\u001b[0;31mTypeError\u001b[0m: unhashable type: 'list'"
          ]
        }
      ],
      "source": [
        "d[[4,5]]"
      ]
    },
    {
      "cell_type": "code",
      "execution_count": null,
      "metadata": {
        "id": "vR_cYWBJcV6V"
      },
      "outputs": [],
      "source": []
    }
  ],
  "metadata": {
    "kernelspec": {
      "display_name": "Python 3",
      "language": "python",
      "name": "python3"
    },
    "language_info": {
      "codemirror_mode": {
        "name": "ipython",
        "version": 3
      },
      "file_extension": ".py",
      "mimetype": "text/x-python",
      "name": "python",
      "nbconvert_exporter": "python",
      "pygments_lexer": "ipython3",
      "version": "3.7.6"
    },
    "colab": {
      "provenance": [],
      "include_colab_link": true
    }
  },
  "nbformat": 4,
  "nbformat_minor": 0
}